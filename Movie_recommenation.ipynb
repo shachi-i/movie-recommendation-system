{
  "nbformat": 4,
  "nbformat_minor": 0,
  "metadata": {
    "colab": {
      "provenance": [],
      "authorship_tag": "ABX9TyN3XkC8re+9p7W9vL3jkAdd",
      "include_colab_link": true
    },
    "kernelspec": {
      "name": "python3",
      "display_name": "Python 3"
    },
    "language_info": {
      "name": "python"
    }
  },
  "cells": [
    {
      "cell_type": "markdown",
      "metadata": {
        "id": "view-in-github",
        "colab_type": "text"
      },
      "source": [
        "<a href=\"https://colab.research.google.com/github/shachi-i/movie-recommendation-system/blob/main/Movie_recommenation.ipynb\" target=\"_parent\"><img src=\"https://colab.research.google.com/assets/colab-badge.svg\" alt=\"Open In Colab\"/></a>"
      ]
    },
    {
      "cell_type": "markdown",
      "source": [
        "importing dependencies"
      ],
      "metadata": {
        "id": "AacxOqB6k1F6"
      }
    },
    {
      "cell_type": "code",
      "execution_count": null,
      "metadata": {
        "id": "uyZL0muUcZYh"
      },
      "outputs": [],
      "source": [
        "import numpy as np\n",
        "import pandas as pd\n",
        "import difflib #difflib is used to find the closest match of the input value to the dataset incase theres spelling errors\n",
        "from sklearn.feature_extraction.text import TfidfVectorizer #convert the textual data to numerical data\n",
        "from sklearn.metrics.pairwise import cosine_similarity #assign similarity score\n",
        "from sklearn.linear_model import LinearRegression\n",
        "from sklearn.model_selection import train_test_split"
      ]
    },
    {
      "cell_type": "markdown",
      "source": [
        "Data collection and preprocessing"
      ],
      "metadata": {
        "id": "PlxnLks5m8TI"
      }
    },
    {
      "cell_type": "code",
      "source": [
        "#loading data from csv file to a pandas dataframe\n",
        "movies_data = pd.read_csv('/content/archive.zip')"
      ],
      "metadata": {
        "id": "6R3d5FJPm5Mh"
      },
      "execution_count": null,
      "outputs": []
    },
    {
      "cell_type": "code",
      "source": [
        "#printing the first five rows of the dataframe\n",
        "movies_data.head()"
      ],
      "metadata": {
        "colab": {
          "base_uri": "https://localhost:8080/",
          "height": 1000
        },
        "id": "xQbR48B_nSQQ",
        "outputId": "f67a85ce-0bd6-4e97-d47e-fa6ef6c85288"
      },
      "execution_count": null,
      "outputs": [
        {
          "output_type": "execute_result",
          "data": {
            "text/plain": [
              "                  Name                   Aired Date  Year of release  \\\n",
              "0       Move to Heaven                 May 14, 2021             2021   \n",
              "1       Flower of Evil  Jul 29, 2020 - Sep 23, 2020             2020   \n",
              "2    Hospital Playlist  Mar 12, 2020 - May 28, 2020             2020   \n",
              "3  Hospital Playlist 2  Jun 17, 2021 - Sep 16, 2021             2021   \n",
              "4            My Mister  Mar 21, 2018 - May 17, 2018             2018   \n",
              "\n",
              "  Original Network              Aired On  Number of Episodes       Duration  \\\n",
              "0          Netflix                Friday                  10        52 min.   \n",
              "1              tvN   Wednesday, Thursday                  16  1 hr. 10 min.   \n",
              "2   Netflix,  tvN               Thursday                  12  1 hr. 30 min.   \n",
              "3   Netflix,  tvN               Thursday                  12  1 hr. 40 min.   \n",
              "4              tvN   Wednesday, Thursday                  16  1 hr. 17 min.   \n",
              "\n",
              "                          Content Rating  Rating  \\\n",
              "0  18+ Restricted (violence & profanity)     9.2   \n",
              "1                15+ - Teens 15 or older     9.1   \n",
              "2                15+ - Teens 15 or older     9.1   \n",
              "3                15+ - Teens 15 or older     9.1   \n",
              "4                15+ - Teens 15 or older     9.1   \n",
              "\n",
              "                                            Synopsis  \\\n",
              "0  Geu Roo is a young autistic man. He works for ...   \n",
              "1  Although Baek Hee Sung is hiding a dark secret...   \n",
              "2  The stories of people going through their days...   \n",
              "3  Everyday is extraordinary for five doctors and...   \n",
              "4  Park Dong Hoon is a middle-aged engineer who i...   \n",
              "\n",
              "                                     Genre  \\\n",
              "0                   Life,  Drama,  Family    \n",
              "1  Thriller,  Romance,  Crime,  Melodrama    \n",
              "2   Friendship,  Romance,  Life,  Medical    \n",
              "3   Friendship,  Romance,  Life,  Medical    \n",
              "4   Psychological,  Life,  Drama,  Family    \n",
              "\n",
              "                                                Tags  \\\n",
              "0  Autism, Uncle-Nephew Relationship, Death, Sava...   \n",
              "1  Married Couple, Deception, Suspense, Family Se...   \n",
              "2  Strong Friendship, Multiple Mains, Best Friend...   \n",
              "3  Workplace, Strong Friendship, Best Friends, Mu...   \n",
              "4  Age Gap, Nice Male Lead, Strong Female Lead, H...   \n",
              "\n",
              "                     Director    Screenwriter  \\\n",
              "0                 Kim Sung Ho    Yoon Ji Ryun   \n",
              "1  Kim Chul Gyu, Yoon Jong Ho    Yoo Jung Hee   \n",
              "2                 Shin Won Ho    Lee Woo Jung   \n",
              "3                 Shin Won Ho    Lee Woo Jung   \n",
              "4   Kim Won Suk, Kim Sang Woo  Park Hae Young   \n",
              "\n",
              "                                                Cast  \\\n",
              "0  Lee Je Hoon, Tang Jun Sang, Hong Seung Hee, Ju...   \n",
              "1  Lee Joon Gi, Moon Chae Won, Jang Hee Jin, Seo ...   \n",
              "2  Jo Jung Suk, Yoo Yeon Seok, Jung Kyung Ho, Kim...   \n",
              "3  Jo Jung Suk, Yoo Yeon Seok, Jung Kyung Ho, Kim...   \n",
              "4  Lee Sun Kyun, IU, Park Ho San, Song Sae Byuk, ...   \n",
              "\n",
              "                   Production companies Rank  \n",
              "0  Page One Film, Number Three Pictures   #1  \n",
              "1                         Monster Union   #2  \n",
              "2                 Egg Is Coming, CJ ENM   #3  \n",
              "3                 Egg Is Coming, CJ ENM   #4  \n",
              "4                      Chorokbaem Media   #5  "
            ],
            "text/html": [
              "\n",
              "  <div id=\"df-6cdfa5f8-c1b1-4cc3-8ba7-bcada0026fef\" class=\"colab-df-container\">\n",
              "    <div>\n",
              "<style scoped>\n",
              "    .dataframe tbody tr th:only-of-type {\n",
              "        vertical-align: middle;\n",
              "    }\n",
              "\n",
              "    .dataframe tbody tr th {\n",
              "        vertical-align: top;\n",
              "    }\n",
              "\n",
              "    .dataframe thead th {\n",
              "        text-align: right;\n",
              "    }\n",
              "</style>\n",
              "<table border=\"1\" class=\"dataframe\">\n",
              "  <thead>\n",
              "    <tr style=\"text-align: right;\">\n",
              "      <th></th>\n",
              "      <th>Name</th>\n",
              "      <th>Aired Date</th>\n",
              "      <th>Year of release</th>\n",
              "      <th>Original Network</th>\n",
              "      <th>Aired On</th>\n",
              "      <th>Number of Episodes</th>\n",
              "      <th>Duration</th>\n",
              "      <th>Content Rating</th>\n",
              "      <th>Rating</th>\n",
              "      <th>Synopsis</th>\n",
              "      <th>Genre</th>\n",
              "      <th>Tags</th>\n",
              "      <th>Director</th>\n",
              "      <th>Screenwriter</th>\n",
              "      <th>Cast</th>\n",
              "      <th>Production companies</th>\n",
              "      <th>Rank</th>\n",
              "    </tr>\n",
              "  </thead>\n",
              "  <tbody>\n",
              "    <tr>\n",
              "      <th>0</th>\n",
              "      <td>Move to Heaven</td>\n",
              "      <td>May 14, 2021</td>\n",
              "      <td>2021</td>\n",
              "      <td>Netflix</td>\n",
              "      <td>Friday</td>\n",
              "      <td>10</td>\n",
              "      <td>52 min.</td>\n",
              "      <td>18+ Restricted (violence &amp; profanity)</td>\n",
              "      <td>9.2</td>\n",
              "      <td>Geu Roo is a young autistic man. He works for ...</td>\n",
              "      <td>Life,  Drama,  Family</td>\n",
              "      <td>Autism, Uncle-Nephew Relationship, Death, Sava...</td>\n",
              "      <td>Kim Sung Ho</td>\n",
              "      <td>Yoon Ji Ryun</td>\n",
              "      <td>Lee Je Hoon, Tang Jun Sang, Hong Seung Hee, Ju...</td>\n",
              "      <td>Page One Film, Number Three Pictures</td>\n",
              "      <td>#1</td>\n",
              "    </tr>\n",
              "    <tr>\n",
              "      <th>1</th>\n",
              "      <td>Flower of Evil</td>\n",
              "      <td>Jul 29, 2020 - Sep 23, 2020</td>\n",
              "      <td>2020</td>\n",
              "      <td>tvN</td>\n",
              "      <td>Wednesday, Thursday</td>\n",
              "      <td>16</td>\n",
              "      <td>1 hr. 10 min.</td>\n",
              "      <td>15+ - Teens 15 or older</td>\n",
              "      <td>9.1</td>\n",
              "      <td>Although Baek Hee Sung is hiding a dark secret...</td>\n",
              "      <td>Thriller,  Romance,  Crime,  Melodrama</td>\n",
              "      <td>Married Couple, Deception, Suspense, Family Se...</td>\n",
              "      <td>Kim Chul Gyu, Yoon Jong Ho</td>\n",
              "      <td>Yoo Jung Hee</td>\n",
              "      <td>Lee Joon Gi, Moon Chae Won, Jang Hee Jin, Seo ...</td>\n",
              "      <td>Monster Union</td>\n",
              "      <td>#2</td>\n",
              "    </tr>\n",
              "    <tr>\n",
              "      <th>2</th>\n",
              "      <td>Hospital Playlist</td>\n",
              "      <td>Mar 12, 2020 - May 28, 2020</td>\n",
              "      <td>2020</td>\n",
              "      <td>Netflix,  tvN</td>\n",
              "      <td>Thursday</td>\n",
              "      <td>12</td>\n",
              "      <td>1 hr. 30 min.</td>\n",
              "      <td>15+ - Teens 15 or older</td>\n",
              "      <td>9.1</td>\n",
              "      <td>The stories of people going through their days...</td>\n",
              "      <td>Friendship,  Romance,  Life,  Medical</td>\n",
              "      <td>Strong Friendship, Multiple Mains, Best Friend...</td>\n",
              "      <td>Shin Won Ho</td>\n",
              "      <td>Lee Woo Jung</td>\n",
              "      <td>Jo Jung Suk, Yoo Yeon Seok, Jung Kyung Ho, Kim...</td>\n",
              "      <td>Egg Is Coming, CJ ENM</td>\n",
              "      <td>#3</td>\n",
              "    </tr>\n",
              "    <tr>\n",
              "      <th>3</th>\n",
              "      <td>Hospital Playlist 2</td>\n",
              "      <td>Jun 17, 2021 - Sep 16, 2021</td>\n",
              "      <td>2021</td>\n",
              "      <td>Netflix,  tvN</td>\n",
              "      <td>Thursday</td>\n",
              "      <td>12</td>\n",
              "      <td>1 hr. 40 min.</td>\n",
              "      <td>15+ - Teens 15 or older</td>\n",
              "      <td>9.1</td>\n",
              "      <td>Everyday is extraordinary for five doctors and...</td>\n",
              "      <td>Friendship,  Romance,  Life,  Medical</td>\n",
              "      <td>Workplace, Strong Friendship, Best Friends, Mu...</td>\n",
              "      <td>Shin Won Ho</td>\n",
              "      <td>Lee Woo Jung</td>\n",
              "      <td>Jo Jung Suk, Yoo Yeon Seok, Jung Kyung Ho, Kim...</td>\n",
              "      <td>Egg Is Coming, CJ ENM</td>\n",
              "      <td>#4</td>\n",
              "    </tr>\n",
              "    <tr>\n",
              "      <th>4</th>\n",
              "      <td>My Mister</td>\n",
              "      <td>Mar 21, 2018 - May 17, 2018</td>\n",
              "      <td>2018</td>\n",
              "      <td>tvN</td>\n",
              "      <td>Wednesday, Thursday</td>\n",
              "      <td>16</td>\n",
              "      <td>1 hr. 17 min.</td>\n",
              "      <td>15+ - Teens 15 or older</td>\n",
              "      <td>9.1</td>\n",
              "      <td>Park Dong Hoon is a middle-aged engineer who i...</td>\n",
              "      <td>Psychological,  Life,  Drama,  Family</td>\n",
              "      <td>Age Gap, Nice Male Lead, Strong Female Lead, H...</td>\n",
              "      <td>Kim Won Suk, Kim Sang Woo</td>\n",
              "      <td>Park Hae Young</td>\n",
              "      <td>Lee Sun Kyun, IU, Park Ho San, Song Sae Byuk, ...</td>\n",
              "      <td>Chorokbaem Media</td>\n",
              "      <td>#5</td>\n",
              "    </tr>\n",
              "  </tbody>\n",
              "</table>\n",
              "</div>\n",
              "    <div class=\"colab-df-buttons\">\n",
              "\n",
              "  <div class=\"colab-df-container\">\n",
              "    <button class=\"colab-df-convert\" onclick=\"convertToInteractive('df-6cdfa5f8-c1b1-4cc3-8ba7-bcada0026fef')\"\n",
              "            title=\"Convert this dataframe to an interactive table.\"\n",
              "            style=\"display:none;\">\n",
              "\n",
              "  <svg xmlns=\"http://www.w3.org/2000/svg\" height=\"24px\" viewBox=\"0 -960 960 960\">\n",
              "    <path d=\"M120-120v-720h720v720H120Zm60-500h600v-160H180v160Zm220 220h160v-160H400v160Zm0 220h160v-160H400v160ZM180-400h160v-160H180v160Zm440 0h160v-160H620v160ZM180-180h160v-160H180v160Zm440 0h160v-160H620v160Z\"/>\n",
              "  </svg>\n",
              "    </button>\n",
              "\n",
              "  <style>\n",
              "    .colab-df-container {\n",
              "      display:flex;\n",
              "      gap: 12px;\n",
              "    }\n",
              "\n",
              "    .colab-df-convert {\n",
              "      background-color: #E8F0FE;\n",
              "      border: none;\n",
              "      border-radius: 50%;\n",
              "      cursor: pointer;\n",
              "      display: none;\n",
              "      fill: #1967D2;\n",
              "      height: 32px;\n",
              "      padding: 0 0 0 0;\n",
              "      width: 32px;\n",
              "    }\n",
              "\n",
              "    .colab-df-convert:hover {\n",
              "      background-color: #E2EBFA;\n",
              "      box-shadow: 0px 1px 2px rgba(60, 64, 67, 0.3), 0px 1px 3px 1px rgba(60, 64, 67, 0.15);\n",
              "      fill: #174EA6;\n",
              "    }\n",
              "\n",
              "    .colab-df-buttons div {\n",
              "      margin-bottom: 4px;\n",
              "    }\n",
              "\n",
              "    [theme=dark] .colab-df-convert {\n",
              "      background-color: #3B4455;\n",
              "      fill: #D2E3FC;\n",
              "    }\n",
              "\n",
              "    [theme=dark] .colab-df-convert:hover {\n",
              "      background-color: #434B5C;\n",
              "      box-shadow: 0px 1px 3px 1px rgba(0, 0, 0, 0.15);\n",
              "      filter: drop-shadow(0px 1px 2px rgba(0, 0, 0, 0.3));\n",
              "      fill: #FFFFFF;\n",
              "    }\n",
              "  </style>\n",
              "\n",
              "    <script>\n",
              "      const buttonEl =\n",
              "        document.querySelector('#df-6cdfa5f8-c1b1-4cc3-8ba7-bcada0026fef button.colab-df-convert');\n",
              "      buttonEl.style.display =\n",
              "        google.colab.kernel.accessAllowed ? 'block' : 'none';\n",
              "\n",
              "      async function convertToInteractive(key) {\n",
              "        const element = document.querySelector('#df-6cdfa5f8-c1b1-4cc3-8ba7-bcada0026fef');\n",
              "        const dataTable =\n",
              "          await google.colab.kernel.invokeFunction('convertToInteractive',\n",
              "                                                    [key], {});\n",
              "        if (!dataTable) return;\n",
              "\n",
              "        const docLinkHtml = 'Like what you see? Visit the ' +\n",
              "          '<a target=\"_blank\" href=https://colab.research.google.com/notebooks/data_table.ipynb>data table notebook</a>'\n",
              "          + ' to learn more about interactive tables.';\n",
              "        element.innerHTML = '';\n",
              "        dataTable['output_type'] = 'display_data';\n",
              "        await google.colab.output.renderOutput(dataTable, element);\n",
              "        const docLink = document.createElement('div');\n",
              "        docLink.innerHTML = docLinkHtml;\n",
              "        element.appendChild(docLink);\n",
              "      }\n",
              "    </script>\n",
              "  </div>\n",
              "\n",
              "\n",
              "<div id=\"df-3a7d9cae-bfbb-4aee-a0b2-11ab7c03239d\">\n",
              "  <button class=\"colab-df-quickchart\" onclick=\"quickchart('df-3a7d9cae-bfbb-4aee-a0b2-11ab7c03239d')\"\n",
              "            title=\"Suggest charts\"\n",
              "            style=\"display:none;\">\n",
              "\n",
              "<svg xmlns=\"http://www.w3.org/2000/svg\" height=\"24px\"viewBox=\"0 0 24 24\"\n",
              "     width=\"24px\">\n",
              "    <g>\n",
              "        <path d=\"M19 3H5c-1.1 0-2 .9-2 2v14c0 1.1.9 2 2 2h14c1.1 0 2-.9 2-2V5c0-1.1-.9-2-2-2zM9 17H7v-7h2v7zm4 0h-2V7h2v10zm4 0h-2v-4h2v4z\"/>\n",
              "    </g>\n",
              "</svg>\n",
              "  </button>\n",
              "\n",
              "<style>\n",
              "  .colab-df-quickchart {\n",
              "      --bg-color: #E8F0FE;\n",
              "      --fill-color: #1967D2;\n",
              "      --hover-bg-color: #E2EBFA;\n",
              "      --hover-fill-color: #174EA6;\n",
              "      --disabled-fill-color: #AAA;\n",
              "      --disabled-bg-color: #DDD;\n",
              "  }\n",
              "\n",
              "  [theme=dark] .colab-df-quickchart {\n",
              "      --bg-color: #3B4455;\n",
              "      --fill-color: #D2E3FC;\n",
              "      --hover-bg-color: #434B5C;\n",
              "      --hover-fill-color: #FFFFFF;\n",
              "      --disabled-bg-color: #3B4455;\n",
              "      --disabled-fill-color: #666;\n",
              "  }\n",
              "\n",
              "  .colab-df-quickchart {\n",
              "    background-color: var(--bg-color);\n",
              "    border: none;\n",
              "    border-radius: 50%;\n",
              "    cursor: pointer;\n",
              "    display: none;\n",
              "    fill: var(--fill-color);\n",
              "    height: 32px;\n",
              "    padding: 0;\n",
              "    width: 32px;\n",
              "  }\n",
              "\n",
              "  .colab-df-quickchart:hover {\n",
              "    background-color: var(--hover-bg-color);\n",
              "    box-shadow: 0 1px 2px rgba(60, 64, 67, 0.3), 0 1px 3px 1px rgba(60, 64, 67, 0.15);\n",
              "    fill: var(--button-hover-fill-color);\n",
              "  }\n",
              "\n",
              "  .colab-df-quickchart-complete:disabled,\n",
              "  .colab-df-quickchart-complete:disabled:hover {\n",
              "    background-color: var(--disabled-bg-color);\n",
              "    fill: var(--disabled-fill-color);\n",
              "    box-shadow: none;\n",
              "  }\n",
              "\n",
              "  .colab-df-spinner {\n",
              "    border: 2px solid var(--fill-color);\n",
              "    border-color: transparent;\n",
              "    border-bottom-color: var(--fill-color);\n",
              "    animation:\n",
              "      spin 1s steps(1) infinite;\n",
              "  }\n",
              "\n",
              "  @keyframes spin {\n",
              "    0% {\n",
              "      border-color: transparent;\n",
              "      border-bottom-color: var(--fill-color);\n",
              "      border-left-color: var(--fill-color);\n",
              "    }\n",
              "    20% {\n",
              "      border-color: transparent;\n",
              "      border-left-color: var(--fill-color);\n",
              "      border-top-color: var(--fill-color);\n",
              "    }\n",
              "    30% {\n",
              "      border-color: transparent;\n",
              "      border-left-color: var(--fill-color);\n",
              "      border-top-color: var(--fill-color);\n",
              "      border-right-color: var(--fill-color);\n",
              "    }\n",
              "    40% {\n",
              "      border-color: transparent;\n",
              "      border-right-color: var(--fill-color);\n",
              "      border-top-color: var(--fill-color);\n",
              "    }\n",
              "    60% {\n",
              "      border-color: transparent;\n",
              "      border-right-color: var(--fill-color);\n",
              "    }\n",
              "    80% {\n",
              "      border-color: transparent;\n",
              "      border-right-color: var(--fill-color);\n",
              "      border-bottom-color: var(--fill-color);\n",
              "    }\n",
              "    90% {\n",
              "      border-color: transparent;\n",
              "      border-bottom-color: var(--fill-color);\n",
              "    }\n",
              "  }\n",
              "</style>\n",
              "\n",
              "  <script>\n",
              "    async function quickchart(key) {\n",
              "      const quickchartButtonEl =\n",
              "        document.querySelector('#' + key + ' button');\n",
              "      quickchartButtonEl.disabled = true;  // To prevent multiple clicks.\n",
              "      quickchartButtonEl.classList.add('colab-df-spinner');\n",
              "      try {\n",
              "        const charts = await google.colab.kernel.invokeFunction(\n",
              "            'suggestCharts', [key], {});\n",
              "      } catch (error) {\n",
              "        console.error('Error during call to suggestCharts:', error);\n",
              "      }\n",
              "      quickchartButtonEl.classList.remove('colab-df-spinner');\n",
              "      quickchartButtonEl.classList.add('colab-df-quickchart-complete');\n",
              "    }\n",
              "    (() => {\n",
              "      let quickchartButtonEl =\n",
              "        document.querySelector('#df-3a7d9cae-bfbb-4aee-a0b2-11ab7c03239d button');\n",
              "      quickchartButtonEl.style.display =\n",
              "        google.colab.kernel.accessAllowed ? 'block' : 'none';\n",
              "    })();\n",
              "  </script>\n",
              "</div>\n",
              "\n",
              "    </div>\n",
              "  </div>\n"
            ],
            "application/vnd.google.colaboratory.intrinsic+json": {
              "type": "dataframe",
              "variable_name": "movies_data",
              "summary": "{\n  \"name\": \"movies_data\",\n  \"rows\": 250,\n  \"fields\": [\n    {\n      \"column\": \"Name\",\n      \"properties\": {\n        \"dtype\": \"string\",\n        \"num_unique_values\": 250,\n        \"samples\": [\n          \"I'm Not a Robot\",\n          \"Weak Hero Class 1\",\n          \"365\"\n        ],\n        \"semantic_type\": \"\",\n        \"description\": \"\"\n      }\n    },\n    {\n      \"column\": \"Aired Date\",\n      \"properties\": {\n        \"dtype\": \"string\",\n        \"num_unique_values\": 248,\n        \"samples\": [\n          \"Oct 26, 2020 - Jan  5, 2021\",\n          \"Nov 18, 2022\",\n          \"Mar 23, 2022 - Apr 13, 2022\"\n        ],\n        \"semantic_type\": \"\",\n        \"description\": \"\"\n      }\n    },\n    {\n      \"column\": \"Year of release\",\n      \"properties\": {\n        \"dtype\": \"number\",\n        \"std\": 3,\n        \"min\": 2003,\n        \"max\": 2022,\n        \"num_unique_values\": 17,\n        \"samples\": [\n          2021,\n          2020,\n          2017\n        ],\n        \"semantic_type\": \"\",\n        \"description\": \"\"\n      }\n    },\n    {\n      \"column\": \"Original Network\",\n      \"properties\": {\n        \"dtype\": \"category\",\n        \"num_unique_values\": 45,\n        \"samples\": [\n          \"SBS, ViuTV\",\n          \"OCN, tvN\",\n          \"ENA, Olleh TV\"\n        ],\n        \"semantic_type\": \"\",\n        \"description\": \"\"\n      }\n    },\n    {\n      \"column\": \"Aired On\",\n      \"properties\": {\n        \"dtype\": \"category\",\n        \"num_unique_values\": 21,\n        \"samples\": [\n          \"Friday\",\n          \"Monday, Tuesday, Wednesday, Thursday, Friday\",\n          \"Monday, Thursday\"\n        ],\n        \"semantic_type\": \"\",\n        \"description\": \"\"\n      }\n    },\n    {\n      \"column\": \"Number of Episodes\",\n      \"properties\": {\n        \"dtype\": \"number\",\n        \"std\": 13,\n        \"min\": 1,\n        \"max\": 133,\n        \"num_unique_values\": 30,\n        \"samples\": [\n          81,\n          28,\n          60\n        ],\n        \"semantic_type\": \"\",\n        \"description\": \"\"\n      }\n    },\n    {\n      \"column\": \"Duration\",\n      \"properties\": {\n        \"dtype\": \"category\",\n        \"num_unique_values\": 38,\n        \"samples\": [\n          \"44 min.\",\n          \"15 min.\",\n          \"1 hr. 17 min.\"\n        ],\n        \"semantic_type\": \"\",\n        \"description\": \"\"\n      }\n    },\n    {\n      \"column\": \"Content Rating\",\n      \"properties\": {\n        \"dtype\": \"category\",\n        \"num_unique_values\": 4,\n        \"samples\": [\n          \"15+ - Teens 15 or older\",\n          \"G - All Ages\",\n          \"18+ Restricted (violence & profanity)\"\n        ],\n        \"semantic_type\": \"\",\n        \"description\": \"\"\n      }\n    },\n    {\n      \"column\": \"Rating\",\n      \"properties\": {\n        \"dtype\": \"number\",\n        \"std\": 0.2213594362117863,\n        \"min\": 8.3,\n        \"max\": 9.2,\n        \"num_unique_values\": 10,\n        \"samples\": [\n          8.4,\n          9.1,\n          8.7\n        ],\n        \"semantic_type\": \"\",\n        \"description\": \"\"\n      }\n    },\n    {\n      \"column\": \"Synopsis\",\n      \"properties\": {\n        \"dtype\": \"string\",\n        \"num_unique_values\": 250,\n        \"samples\": [\n          \"Kim Min Kyu is the largest shareholder of a financial company. He suffers from a \\\"human allergy\\\", preventing him from normal interactions with other people. He becomes interested in a robotic project named Aji-3 created by the Santa Maria robotic team. The team is headed by Hong Baek Gyun, inventor of Aji-3 and world-renowned robotics professor. He modeled Aji-3 after his ex-girlfriend, Jo Ji Ah, a struggling inventor that also works as a personal shopper to make ends meet. Just when Kim Min Kyu wants to test the robot, an accident causes the malfunction of the robot's battery. Hong Baek Gyun begs Jo Ji Ah to take the place of Aji-3 and pretend to be the robot so they can get funding from Kim Min Kyu. But, Aji-3 becomes the closest thing that the lonely Min Kyu has to real contact with another person.\",\n          \"Yeon Shi Eun is a model student who ranks at the top of his high school. Physically, Yeon Shi Eun appears weak, but by using his wits and psychology, he fights against the violence that takes place inside and outside of his school.\",\n          \"A story where ten people get the chance to go back in time by one year, but unexpectedly mysterious situations start to arise when their fates are changed and twisted in the process.\"\n        ],\n        \"semantic_type\": \"\",\n        \"description\": \"\"\n      }\n    },\n    {\n      \"column\": \"Genre\",\n      \"properties\": {\n        \"dtype\": \"string\",\n        \"num_unique_values\": 205,\n        \"samples\": [\n          \"Thriller,  Mystery,  Sci-Fi \",\n          \"Historical,  Mystery,  Comedy,  Romance \",\n          \"Thriller, Mystery, Psychological\"\n        ],\n        \"semantic_type\": \"\",\n        \"description\": \"\"\n      }\n    },\n    {\n      \"column\": \"Tags\",\n      \"properties\": {\n        \"dtype\": \"string\",\n        \"num_unique_values\": 250,\n        \"samples\": [\n          \"Haphephobia, Hidden Identity, Rich Male Lead, Robot, Eccentric Male Lead, Double Identity, Sismance, Hardworking Female Lead, Healing, Forgiveness\",\n          \"Bromance, Smart Male Lead, Violence, School Bullying, Adapted From A Webtoon, Delinquent Supporting Character, Quiet Male Lead, Skilled Fighter, Hidden Past, Strong Male Lead\",\n          \"Strong Female Lead, Time Travel, Nice Male Lead, Suspense, Murder, Detective, Fate, Supernatural, Accident, Webtoon Writer\"\n        ],\n        \"semantic_type\": \"\",\n        \"description\": \"\"\n      }\n    },\n    {\n      \"column\": \"Director\",\n      \"properties\": {\n        \"dtype\": \"string\",\n        \"num_unique_values\": 184,\n        \"samples\": [\n          \"Kim Tae Yoon, Sung Chi Wook\",\n          \"Kim Jae Hong, Park Bo Ram\",\n          \"Cha Young Hoon\"\n        ],\n        \"semantic_type\": \"\",\n        \"description\": \"\"\n      }\n    },\n    {\n      \"column\": \"Screenwriter\",\n      \"properties\": {\n        \"dtype\": \"string\",\n        \"num_unique_values\": 182,\n        \"samples\": [\n          \"Song Ji Na\",\n          \"Seol Yi Na, Kwon Il Yong\",\n          \"Im Hee Chul\"\n        ],\n        \"semantic_type\": \"\",\n        \"description\": \"\"\n      }\n    },\n    {\n      \"column\": \"Cast\",\n      \"properties\": {\n        \"dtype\": \"string\",\n        \"num_unique_values\": 249,\n        \"samples\": [\n          \"Jeon Do Yeon, Ryu Joon Yeol, Park Byung Eun, Kim Hyo Jin, Park Ji Young, Park In Hwan\",\n          \"Park Hae Soo, Jung Kyung Ho, Krystal Jung, Im Hwa Young, Ye Soo Jung, Kim Kyung Nam\",\n          \"Gong Hyo Jin, So Ji Sub, Seo In Guk, Kim Yoo Ri, Choi Jung Woo, Kim  Mi Kyung\"\n        ],\n        \"semantic_type\": \"\",\n        \"description\": \"\"\n      }\n    },\n    {\n      \"column\": \"Production companies\",\n      \"properties\": {\n        \"dtype\": \"string\",\n        \"num_unique_values\": 171,\n        \"samples\": [\n          \"Lydus Contents Company, AStory\",\n          \"Studio Phoenix, Chorokbaem Media, SLL\",\n          \"HB Entertainment\"\n        ],\n        \"semantic_type\": \"\",\n        \"description\": \"\"\n      }\n    },\n    {\n      \"column\": \"Rank\",\n      \"properties\": {\n        \"dtype\": \"string\",\n        \"num_unique_values\": 250,\n        \"samples\": [\n          \"#143\",\n          \"#7\",\n          \"#98\"\n        ],\n        \"semantic_type\": \"\",\n        \"description\": \"\"\n      }\n    }\n  ]\n}"
            }
          },
          "metadata": {},
          "execution_count": 17
        }
      ]
    },
    {
      "cell_type": "code",
      "source": [
        "#number of rows and columns\n",
        "movies_data.shape"
      ],
      "metadata": {
        "colab": {
          "base_uri": "https://localhost:8080/"
        },
        "id": "aGIywMT1pqhX",
        "outputId": "06b0c348-1917-4d96-d4d5-4dd9a3f52258"
      },
      "execution_count": null,
      "outputs": [
        {
          "output_type": "execute_result",
          "data": {
            "text/plain": [
              "(250, 17)"
            ]
          },
          "metadata": {},
          "execution_count": 18
        }
      ]
    },
    {
      "cell_type": "code",
      "source": [
        "#selecting relevant features for recommendation\n",
        "selected_features= ['Name','Synopsis','Genre','Tags','Cast'\t ]\n",
        "print(selected_features)"
      ],
      "metadata": {
        "colab": {
          "base_uri": "https://localhost:8080/"
        },
        "id": "a5tILLD3pyaS",
        "outputId": "6161c5cb-6e68-408c-e450-8a39db8e4680"
      },
      "execution_count": null,
      "outputs": [
        {
          "output_type": "stream",
          "name": "stdout",
          "text": [
            "['Name', 'Synopsis', 'Genre', 'Tags', 'Cast']\n"
          ]
        }
      ]
    },
    {
      "cell_type": "code",
      "source": [
        "#replacing null calues with null string\n",
        "for feature in selected_features:\n",
        "  movies_data[feature] = movies_data[feature].fillna('')"
      ],
      "metadata": {
        "id": "NuvrGyqjqDup"
      },
      "execution_count": null,
      "outputs": []
    },
    {
      "cell_type": "code",
      "source": [
        "#combining all the 5 selected features\n",
        "combined_features = movies_data['Name']+' '+movies_data['Synopsis']+' '+movies_data['Genre']+' '+movies_data['Tags']+' '+movies_data['Cast']"
      ],
      "metadata": {
        "id": "glpMvaBKrd_J"
      },
      "execution_count": null,
      "outputs": []
    },
    {
      "cell_type": "code",
      "source": [
        "print(combined_features)"
      ],
      "metadata": {
        "colab": {
          "base_uri": "https://localhost:8080/"
        },
        "id": "pOjCtbb8slFG",
        "outputId": "a1ec2774-6589-4fa8-ea5f-cbd9941e83a2"
      },
      "execution_count": null,
      "outputs": [
        {
          "output_type": "stream",
          "name": "stdout",
          "text": [
            "0      Move to Heaven Geu Roo is a young autistic man...\n",
            "1      Flower of Evil Although Baek Hee Sung is hidin...\n",
            "2      Hospital Playlist The stories of people going ...\n",
            "3      Hospital Playlist 2 Everyday is extraordinary ...\n",
            "4      My Mister Park Dong Hoon is a middle-aged engi...\n",
            "                             ...                        \n",
            "245    Live Up to Your Name Heo Im, who is born in a ...\n",
            "246    Queen for Seven Days This drama is about the l...\n",
            "247    Memory Park Tae Suk is a lawyer who finds out ...\n",
            "248    A Korean Odyssey In 2017, Son Oh Gong and Ma W...\n",
            "249    Voice 4: Judgment Hour A serial killer with an...\n",
            "Length: 250, dtype: object\n"
          ]
        }
      ]
    },
    {
      "cell_type": "code",
      "source": [
        "#converting test data to feature vectors or numerical values\n",
        "vectorizer=TfidfVectorizer()\n"
      ],
      "metadata": {
        "id": "dApqIXkxsy4K"
      },
      "execution_count": null,
      "outputs": []
    },
    {
      "cell_type": "code",
      "source": [
        "feature_vectors=vectorizer.fit_transform(combined_features)"
      ],
      "metadata": {
        "id": "bFYSiuEetMo8"
      },
      "execution_count": null,
      "outputs": []
    },
    {
      "cell_type": "code",
      "source": [
        "print(feature_vectors)"
      ],
      "metadata": {
        "colab": {
          "base_uri": "https://localhost:8080/"
        },
        "id": "-Vt-VJGKtZO5",
        "outputId": "e607310a-beff-4846-f726-b6dd725bb9cf"
      },
      "execution_count": null,
      "outputs": [
        {
          "output_type": "stream",
          "name": "stdout",
          "text": [
            "  (0, 3612)\t0.07457228756513246\n",
            "  (0, 2617)\t0.05917244307681523\n",
            "  (0, 2230)\t0.04188626334625787\n",
            "  (0, 4491)\t0.06961573064600823\n",
            "  (0, 3887)\t0.050687424497402066\n",
            "  (0, 2247)\t0.0625741071317026\n",
            "  (0, 1911)\t0.035885187433744165\n",
            "  (0, 3582)\t0.047626104544689185\n",
            "  (0, 1978)\t0.058406570912936606\n",
            "  (0, 2246)\t0.056969965262844056\n",
            "  (0, 3971)\t0.09350059371373862\n",
            "  (0, 1981)\t0.04975588483835737\n",
            "  (0, 2207)\t0.08155816217987343\n",
            "  (0, 2352)\t0.048705992787856124\n",
            "  (0, 2829)\t0.1004864683284796\n",
            "  (0, 228)\t0.01865992451414187\n",
            "  (0, 745)\t0.1004864683284796\n",
            "  (0, 878)\t0.08155816217987343\n",
            "  (0, 1418)\t0.06823665188324939\n",
            "  (0, 2360)\t0.08155816217987343\n",
            "  (0, 3719)\t0.04573086757827785\n",
            "  (0, 3986)\t0.07111487461068042\n",
            "  (0, 2631)\t0.1004864683284796\n",
            "  (0, 3943)\t0.08854403679461441\n",
            "  (0, 3473)\t0.09350059371373862\n",
            "  :\t:\n",
            "  (249, 3693)\t0.04262490956740272\n",
            "  (249, 3925)\t0.06645713290966217\n",
            "  (249, 934)\t0.05852020130050163\n",
            "  (249, 4053)\t0.04262490956740272\n",
            "  (249, 1930)\t0.037420907062651686\n",
            "  (249, 1655)\t0.07268839282645292\n",
            "  (249, 3568)\t0.1393305609778832\n",
            "  (249, 1085)\t0.06181312196671525\n",
            "  (249, 1873)\t0.0414747957371262\n",
            "  (249, 3891)\t0.04567598648363603\n",
            "  (249, 373)\t0.0745272176541979\n",
            "  (249, 2230)\t0.15178696188214122\n",
            "  (249, 3582)\t0.11505795516396432\n",
            "  (249, 2352)\t0.02941670323437373\n",
            "  (249, 228)\t0.0450797473074145\n",
            "  (249, 3719)\t0.05523966490366067\n",
            "  (249, 1012)\t0.1040630346487625\n",
            "  (249, 405)\t0.07055102114299341\n",
            "  (249, 4398)\t0.032231578527453675\n",
            "  (249, 2778)\t0.09536413029026337\n",
            "  (249, 259)\t0.0808827484949431\n",
            "  (249, 579)\t0.041252207903403774\n",
            "  (249, 2929)\t0.05439008718497483\n",
            "  (249, 2188)\t0.05321271991081632\n",
            "  (249, 4078)\t0.07181148295189109\n"
          ]
        }
      ]
    },
    {
      "cell_type": "code",
      "source": [
        "#getting the similarity scores using cosine similarity\n",
        "similarity=cosine_similarity(feature_vectors)"
      ],
      "metadata": {
        "id": "OK_-DBRetpUy"
      },
      "execution_count": null,
      "outputs": []
    },
    {
      "cell_type": "code",
      "source": [
        "print(similarity)"
      ],
      "metadata": {
        "colab": {
          "base_uri": "https://localhost:8080/"
        },
        "id": "J0EeU_jq0L1-",
        "outputId": "ed8f753c-eabc-4447-be2f-8deb9dba9550"
      },
      "execution_count": null,
      "outputs": [
        {
          "output_type": "stream",
          "name": "stdout",
          "text": [
            "[[1.         0.07560855 0.04983295 ... 0.10925479 0.05485098 0.05094272]\n",
            " [0.07560855 1.         0.03704071 ... 0.09841493 0.12668175 0.11544109]\n",
            " [0.04983295 0.03704071 1.         ... 0.07805202 0.08459789 0.06370909]\n",
            " ...\n",
            " [0.10925479 0.09841493 0.07805202 ... 1.         0.07094918 0.06015598]\n",
            " [0.05485098 0.12668175 0.08459789 ... 0.07094918 1.         0.08537471]\n",
            " [0.05094272 0.11544109 0.06370909 ... 0.06015598 0.08537471 1.        ]]\n"
          ]
        }
      ]
    },
    {
      "cell_type": "code",
      "source": [
        "print(similarity.shape)"
      ],
      "metadata": {
        "colab": {
          "base_uri": "https://localhost:8080/"
        },
        "id": "WLeesrMc0Q8H",
        "outputId": "01c8b0c8-c7e6-49d1-d60a-e78da9cf73a9"
      },
      "execution_count": null,
      "outputs": [
        {
          "output_type": "stream",
          "name": "stdout",
          "text": [
            "(250, 250)\n"
          ]
        }
      ]
    },
    {
      "cell_type": "code",
      "source": [
        "#getting the movie name from the user\n",
        "kdrama_name=input('Enter your favourite kdrama name: ')"
      ],
      "metadata": {
        "colab": {
          "base_uri": "https://localhost:8080/",
          "height": 304
        },
        "id": "7YM6slnu1xke",
        "outputId": "826884f2-57d4-4104-f54d-a31da8de39d6"
      },
      "execution_count": null,
      "outputs": [
        {
          "output_type": "error",
          "ename": "KeyboardInterrupt",
          "evalue": "Interrupted by user",
          "traceback": [
            "\u001b[0;31m---------------------------------------------------------------------------\u001b[0m",
            "\u001b[0;31mKeyboardInterrupt\u001b[0m                         Traceback (most recent call last)",
            "\u001b[0;32m<ipython-input-11-39296c1c1199>\u001b[0m in \u001b[0;36m<cell line: 2>\u001b[0;34m()\u001b[0m\n\u001b[1;32m      1\u001b[0m \u001b[0;31m#getting the movie name from the user\u001b[0m\u001b[0;34m\u001b[0m\u001b[0;34m\u001b[0m\u001b[0m\n\u001b[0;32m----> 2\u001b[0;31m \u001b[0mkdrama_name\u001b[0m\u001b[0;34m=\u001b[0m\u001b[0minput\u001b[0m\u001b[0;34m(\u001b[0m\u001b[0;34m'Enter your favourite kdrama name: '\u001b[0m\u001b[0;34m)\u001b[0m\u001b[0;34m\u001b[0m\u001b[0;34m\u001b[0m\u001b[0m\n\u001b[0m",
            "\u001b[0;32m/usr/local/lib/python3.10/dist-packages/ipykernel/kernelbase.py\u001b[0m in \u001b[0;36mraw_input\u001b[0;34m(self, prompt)\u001b[0m\n\u001b[1;32m    849\u001b[0m                 \u001b[0;34m\"raw_input was called, but this frontend does not support input requests.\"\u001b[0m\u001b[0;34m\u001b[0m\u001b[0;34m\u001b[0m\u001b[0m\n\u001b[1;32m    850\u001b[0m             )\n\u001b[0;32m--> 851\u001b[0;31m         return self._input_request(str(prompt),\n\u001b[0m\u001b[1;32m    852\u001b[0m             \u001b[0mself\u001b[0m\u001b[0;34m.\u001b[0m\u001b[0m_parent_ident\u001b[0m\u001b[0;34m,\u001b[0m\u001b[0;34m\u001b[0m\u001b[0;34m\u001b[0m\u001b[0m\n\u001b[1;32m    853\u001b[0m             \u001b[0mself\u001b[0m\u001b[0;34m.\u001b[0m\u001b[0m_parent_header\u001b[0m\u001b[0;34m,\u001b[0m\u001b[0;34m\u001b[0m\u001b[0;34m\u001b[0m\u001b[0m\n",
            "\u001b[0;32m/usr/local/lib/python3.10/dist-packages/ipykernel/kernelbase.py\u001b[0m in \u001b[0;36m_input_request\u001b[0;34m(self, prompt, ident, parent, password)\u001b[0m\n\u001b[1;32m    893\u001b[0m             \u001b[0;32mexcept\u001b[0m \u001b[0mKeyboardInterrupt\u001b[0m\u001b[0;34m:\u001b[0m\u001b[0;34m\u001b[0m\u001b[0;34m\u001b[0m\u001b[0m\n\u001b[1;32m    894\u001b[0m                 \u001b[0;31m# re-raise KeyboardInterrupt, to truncate traceback\u001b[0m\u001b[0;34m\u001b[0m\u001b[0;34m\u001b[0m\u001b[0m\n\u001b[0;32m--> 895\u001b[0;31m                 \u001b[0;32mraise\u001b[0m \u001b[0mKeyboardInterrupt\u001b[0m\u001b[0;34m(\u001b[0m\u001b[0;34m\"Interrupted by user\"\u001b[0m\u001b[0;34m)\u001b[0m \u001b[0;32mfrom\u001b[0m \u001b[0;32mNone\u001b[0m\u001b[0;34m\u001b[0m\u001b[0;34m\u001b[0m\u001b[0m\n\u001b[0m\u001b[1;32m    896\u001b[0m             \u001b[0;32mexcept\u001b[0m \u001b[0mException\u001b[0m \u001b[0;32mas\u001b[0m \u001b[0me\u001b[0m\u001b[0;34m:\u001b[0m\u001b[0;34m\u001b[0m\u001b[0;34m\u001b[0m\u001b[0m\n\u001b[1;32m    897\u001b[0m                 \u001b[0mself\u001b[0m\u001b[0;34m.\u001b[0m\u001b[0mlog\u001b[0m\u001b[0;34m.\u001b[0m\u001b[0mwarning\u001b[0m\u001b[0;34m(\u001b[0m\u001b[0;34m\"Invalid Message:\"\u001b[0m\u001b[0;34m,\u001b[0m \u001b[0mexc_info\u001b[0m\u001b[0;34m=\u001b[0m\u001b[0;32mTrue\u001b[0m\u001b[0;34m)\u001b[0m\u001b[0;34m\u001b[0m\u001b[0;34m\u001b[0m\u001b[0m\n",
            "\u001b[0;31mKeyboardInterrupt\u001b[0m: Interrupted by user"
          ]
        }
      ]
    },
    {
      "cell_type": "code",
      "source": [
        "#creating a list with all the kdrama names given in the dataset\n",
        "list_of_all_kdrama_names=movies_data['Name'].tolist()\n",
        "print(list_of_all_kdrama_names)"
      ],
      "metadata": {
        "colab": {
          "base_uri": "https://localhost:8080/"
        },
        "id": "XwSLvEpw0mjn",
        "outputId": "9b647964-d425-4e73-8193-95f18bea1d66"
      },
      "execution_count": null,
      "outputs": [
        {
          "output_type": "stream",
          "name": "stdout",
          "text": [
            "['Move to Heaven', 'Flower of Evil', 'Hospital Playlist', 'Hospital Playlist 2', 'My Mister', 'Reply 1988', 'Weak Hero Class 1', 'Prison Playbook', 'Alchemy of Souls', 'Extraordinary Attorney Woo', 'Mr. Queen', 'Mother', \"It's Okay to Not Be Okay\", 'Crash Landing on You', 'Vincenzo', 'Navillera', 'Signal', 'Mr. Sunshine', 'Happiness', 'Kingdom: Season 2', 'SKY Castle', 'Tomorrow', 'Healer', 'Stranger', 'Twenty-Five Twenty-One', 'The Red Sleeve', 'Goblin', 'The Uncanny Counter', 'Mouse', 'Kingdom', 'Weightlifting Fairy Kim Bok Joo', 'D.P.', 'The Devil Judge', 'The Penthouse', 'Youth of May', 'Taxi Driver', 'Life on Mars', 'Beyond Evil', 'Racket Boys', 'Hometown Cha-Cha-Cha', 'Six Flying Dragons', 'Our Beloved Summer', 'The Guest', 'Dear My Friends', 'While You Were Sleeping', 'The Penthouse 2', 'Chicago Typewriter', '18 Again', 'Arthdal Chronicles Part 2', 'Arthdal Chronicles Part 3', 'Through the Darkness', 'Dr. Romantic 2', 'Defendant', 'Our Blues', 'Sweet Home', 'Kill Me, Heal Me', 'Moon Lovers', 'A Business Proposal', 'Misaeng', 'Strong Woman Do Bong Soon', 'The Fiery Priest', 'My Name', 'Hotel del Luna', 'Hot Stove League', 'Dr. Romantic', 'Descendants of the Sun', 'Law School', 'Strangers from Hell', 'Live', 'Tunnel', 'My Liberation Notes', 'Partners for Justice 2', 'Jewel in the Palace', \"It's Okay, That's Love\", 'Little Women', 'Ghost Doctor', 'Eulachacha Waikiki', 'The Bridal Mask', 'Children of Nobody', 'Good Manager', 'The King of Pigs', 'Big Mouth', 'Go Back Couple', 'Empress Ki', 'My Father is Strange', 'Once Again', 'Missing', 'Stranger 2', 'Designated Survivor', 'Juvenile Justice', 'Cruel City', 'My Love from the Star', 'Mystic Pop-Up Bar', 'Age of Youth', 'Just Between Lovers', 'Save Me', 'Bad and Crazy', '365', \"The Master's Sun\", 'Avengers Social Club', 'Rebel', 'Nobody Knows', 'Bad Guys', 'Beautiful World', 'Arthdal Chronicles Part 1', 'Kairos', 'I Hear Your Voice', \"What's Wrong with Secretary Kim\", 'Vagabond', 'One Ordinary Day', 'Reply 1997', 'Doctor John', 'Hi Bye, Mama!', 'Voice', 'Fight For My Way', 'Squid Game', 'W', 'Queen Seon Duk', 'Mad for Each Other', 'Dali and the Cocky Prince', 'Thirty But Seventeen', 'When the Camellia Blooms', 'Be Melodramatic', 'Itaewon Class', 'Snowdrop', 'Circle', 'Because This Is My First Life', \"The Princess's Man\", 'Blind', 'Two Weeks', 'Work Later, Drink Now', 'Dong Yi', 'Gaus Electronics', \"Angel's Last Mission: Love\", 'The World of the Married', 'All of Us Are Dead', 'Extracurricular', \"Yumi's Cells\", 'Lost', \"Queen In Hyun's Man\", 'One Dollar Lawyer', 'If You Wish Upon Me', \"I'm Not a Robot\", 'Memorist', 'Voice 2', 'Doom at Your Service', 'Duel', 'Search: WWW', 'From Now On, Showtime!', 'Hello Monster', 'Moon Embracing the Sun', 'Train', 'Sh**ting Stars', 'The Crowned Clown', 'Mad Dog', 'Birthcare Center', 'Nine: Nine Times Time Travel', 'Extraordinary You', 'Pinocchio', 'Doctor Prisoner', 'Love All Play', 'My Unfamiliar Family', 'Her Private Life', 'Age of Youth 2', 'Secret', 'Military Prosecutor Doberman', 'Pachinko', 'My Roommate Is a Gumiho', \"Yumi's Cells 2\", 'My Country: The New Age', 'Sell Your Haunted House', 'Player', 'The Legend of the Blue Sea', 'Come and Hug Me', 'Partners for Justice', 'Seasons of Blossom', 'The Tale of Nokdu', 'Psychopath Diary', 'The Beauty Inside', 'Tale of the Nine-Tailed', 'The Good Detective', 'He Is Psychometric', 'One Spring Night', 'Soundtrack #1', 'City Hunter', 'Class of Lies', '100 Days My Prince', 'At a Distance, Spring Is Green', 'Lie After Lie', 'The Sound of Magic', 'The Mysterious Class', 'Good Doctor', \"It's Okay, That's Friendship\", 'Rookie Cops', 'True Beauty', 'Oh My Ghost', \"God's Gift: 14 Days\", 'The Sound of Your Heart', 'The Veil', 'Graceful Family', 'Gu Family Book', 'The Hymn of Death', 'Jumong', 'Vampire Prosecutor 2', 'Ugly Alert', 'Misty', 'Voice 3: City of Accomplices', 'Confession', 'Again My Life', 'Money Heist: Korea - Joint Economic Area - Part 1', 'Are You Human Too?', 'Run On', 'The Smile Has Left Your Eyes', 'Team Bulldog: Off-duty Investigation', 'The Guardians', 'Terius Behind Me', 'Hyena', 'Touch Your Heart', 'Angry Mom', 'Welcome 2 Life', 'Suspicious Partner', 'Mine', 'When the Weather Is Fine', 'Lawless Lawyer', 'Crazy Love', 'WATCHER', 'Five Enough', 'Amanza', 'Light on Me', 'Bulgasal: Immortal Souls', 'Liar Game', 'Tree With Deep Roots', '49 Days', 'D-Day', 'Awaken', 'Oh My Venus', 'Leverage', \"The King's Affection\", \"A Gentleman's Dignity\", 'Rookie Historian Goo Hae Ryung', 'Coffee Prince', 'Ghost', 'Love Playlist: Season 4', \"God's Quiz: Reboot\", 'Missing Noir M', 'Live Up to Your Name', 'Queen for Seven Days', 'Memory', 'A Korean Odyssey', 'Voice 4: Judgment Hour']\n"
          ]
        }
      ]
    },
    {
      "cell_type": "code",
      "source": [
        "#finding the close match for the kdrama given by the user\n",
        "find_close_match=difflib.get_close_matches(kdrama_name,list_of_all_kdrama_names)\n",
        "print(find_close_match)"
      ],
      "metadata": {
        "colab": {
          "base_uri": "https://localhost:8080/"
        },
        "id": "pGVbMlv22VEw",
        "outputId": "5056d08d-6046-4baf-914d-35e56ef06a65"
      },
      "execution_count": null,
      "outputs": [
        {
          "output_type": "stream",
          "name": "stdout",
          "text": [
            "['Sweet Home']\n"
          ]
        }
      ]
    },
    {
      "cell_type": "code",
      "source": [
        "close_match=find_close_match[0]\n",
        "print(close_match)"
      ],
      "metadata": {
        "colab": {
          "base_uri": "https://localhost:8080/"
        },
        "id": "sObscduF2xCH",
        "outputId": "5460c7dd-5b2d-4658-813d-895f980735c7"
      },
      "execution_count": null,
      "outputs": [
        {
          "output_type": "stream",
          "name": "stdout",
          "text": [
            "Sweet Home\n"
          ]
        }
      ]
    },
    {
      "cell_type": "code",
      "source": [
        "#find the index of the movie with title\n",
        "index_of_the_kdrama=movies_data[movies_data.Name==close_match].index.values[0]\n",
        "print(index_of_the_kdrama)"
      ],
      "metadata": {
        "colab": {
          "base_uri": "https://localhost:8080/"
        },
        "id": "Cg3mMfoS3A6f",
        "outputId": "448f0d57-2e7e-4b48-edf9-4c3488d3ccc7"
      },
      "execution_count": null,
      "outputs": [
        {
          "output_type": "stream",
          "name": "stdout",
          "text": [
            "54\n"
          ]
        }
      ]
    },
    {
      "cell_type": "code",
      "source": [
        "#getting a list of similar movies\n",
        "similarity_score=list(enumerate(similarity[index_of_the_kdrama]))\n",
        "print(similarity_score) #displays score of all movies"
      ],
      "metadata": {
        "colab": {
          "base_uri": "https://localhost:8080/"
        },
        "id": "pDR8StR34oSj",
        "outputId": "726f1a79-fe72-48f6-956d-b0d4970f19df"
      },
      "execution_count": null,
      "outputs": [
        {
          "output_type": "stream",
          "name": "stdout",
          "text": [
            "[(0, 0.05521102159661963), (1, 0.08979451090948994), (2, 0.0775923862030669), (3, 0.06623462285987412), (4, 0.08991695224898574), (5, 0.11662815214164002), (6, 0.140752064352243), (7, 0.0832906756451825), (8, 0.09030802151389397), (9, 0.056494659225198106), (10, 0.06616211452811169), (11, 0.07993297141736044), (12, 0.05142251803576113), (13, 0.0859153516084409), (14, 0.06638886463069943), (15, 0.07658385491090339), (16, 0.09717790115414358), (17, 0.0787552720235437), (18, 0.17370851662259523), (19, 0.12344881960189408), (20, 0.05742868173148355), (21, 0.10651618960258084), (22, 0.07617835594297488), (23, 0.03804781661746712), (24, 0.08876381262306766), (25, 0.08925969608553032), (26, 0.08368683808412855), (27, 0.09258598323927589), (28, 0.10753922937957722), (29, 0.10426073734198679), (30, 0.0560067363887517), (31, 0.06246904006776736), (32, 0.07324802494682175), (33, 0.12428106273766372), (34, 0.12968508709230525), (35, 0.06313781013105042), (36, 0.07505688312697764), (37, 0.06481216100182255), (38, 0.054425934715630085), (39, 0.07850671544709453), (40, 0.024115656766209297), (41, 0.08671826890190064), (42, 0.09698196126990317), (43, 0.08262563945210298), (44, 0.04056053566421301), (45, 0.057487067560808236), (46, 0.08171229374112723), (47, 0.06749591305041597), (48, 0.04476642143561733), (49, 0.08036657529240226), (50, 0.10206449296746992), (51, 0.047300196646093355), (52, 0.04579251515027875), (53, 0.0930426432555302), (54, 1.0), (55, 0.06960677193969657), (56, 0.13084903093178085), (57, 0.07147267947497148), (58, 0.1061516799939155), (59, 0.10064601194929856), (60, 0.043788674953469914), (61, 0.08138672679164007), (62, 0.0636000986963499), (63, 0.045894323408144456), (64, 0.08008099952920748), (65, 0.0573113519523585), (66, 0.09157510270392788), (67, 0.2490635106154907), (68, 0.10328196178463327), (69, 0.11692717960936358), (70, 0.11145472804907511), (71, 0.058775272560158194), (72, 0.05007057882939879), (73, 0.06323968198428867), (74, 0.1029844991174003), (75, 0.06650220686266946), (76, 0.05784708651210733), (77, 0.10368845987570177), (78, 0.07247624332720212), (79, 0.08889306467172903), (80, 0.1424672490416617), (81, 0.06266655231957004), (82, 0.06729990768682197), (83, 0.03709817649933954), (84, 0.1123665217622904), (85, 0.10875755910362839), (86, 0.07464129551699211), (87, 0.02768860702841033), (88, 0.04418132010360831), (89, 0.04870795998572513), (90, 0.03690382529871972), (91, 0.09432249864298295), (92, 0.0664971047151848), (93, 0.07490483189881784), (94, 0.06367795043707052), (95, 0.10788114834796225), (96, 0.07658030545557794), (97, 0.16894607963485542), (98, 0.10707244136175549), (99, 0.05332167635450846), (100, 0.06988200979677495), (101, 0.11771926329950091), (102, 0.03501375818102667), (103, 0.15439546596530015), (104, 0.0697088604029754), (105, 0.12413215839141083), (106, 0.11752990599593709), (107, 0.09309399960738213), (108, 0.07411060589464942), (109, 0.12605105223583218), (110, 0.09322164509343664), (111, 0.04479396659318412), (112, 0.0692277957607608), (113, 0.08947966777509146), (114, 0.06331832377124409), (115, 0.1055787223117398), (116, 0.12479465105033), (117, 0.05451583508441797), (118, 0.11655057366979278), (119, 0.08455627434964189), (120, 0.06894703660494665), (121, 0.04210538517772674), (122, 0.06359366726015298), (123, 0.1029630662508099), (124, 0.10446035796141084), (125, 0.11312900756153652), (126, 0.08992129929910261), (127, 0.07979653407685239), (128, 0.09585022559608075), (129, 0.09711173603612587), (130, 0.09644644178442713), (131, 0.04848814028359702), (132, 0.09236063387602549), (133, 0.0702856217494266), (134, 0.06936660431103822), (135, 0.1675366267642431), (136, 0.13684679191616475), (137, 0.08566539010157603), (138, 0.0648485409629461), (139, 0.08948738025119979), (140, 0.05030829106684463), (141, 0.08676552184290641), (142, 0.08702656254185831), (143, 0.11073086746818074), (144, 0.0586951245484368), (145, 0.04168550371329203), (146, 0.0750017001822446), (147, 0.06588587135711038), (148, 0.11789611441448161), (149, 0.11537736761816987), (150, 0.07932395397451475), (151, 0.13379973939306622), (152, 0.10926536140486634), (153, 0.05585092658120719), (154, 0.07862991136420149), (155, 0.0685475900631567), (156, 0.10744705977896837), (157, 0.12237337001754969), (158, 0.06386341391248394), (159, 0.07787781066632282), (160, 0.050334151939389525), (161, 0.10999040652611311), (162, 0.06180013805710947), (163, 0.07729344582694568), (164, 0.07754198404320597), (165, 0.06968636968641789), (166, 0.073102837860348), (167, 0.08333651703482918), (168, 0.06474696300837524), (169, 0.10815263016925582), (170, 0.04884178096577508), (171, 0.07571105085693974), (172, 0.09496630685051254), (173, 0.06994053460176293), (174, 0.07040169196736165), (175, 0.11754989432443756), (176, 0.05631301944375297), (177, 0.09553069589350696), (178, 0.1064079923955941), (179, 0.12006835226815071), (180, 0.07160072276287359), (181, 0.11750717855803838), (182, 0.07097015661730435), (183, 0.041142232343425233), (184, 0.08516345437261252), (185, 0.12739257092045794), (186, 0.07845363121530746), (187, 0.09217988004233375), (188, 0.074899837417198), (189, 0.09824332263330056), (190, 0.09735514412398036), (191, 0.07615934952788288), (192, 0.059493578537705455), (193, 0.06488807400367358), (194, 0.0675444501788593), (195, 0.05058568747917741), (196, 0.10926148857621037), (197, 0.0638346089447176), (198, 0.0897274313634937), (199, 0.11615414187811009), (200, 0.06435686655339706), (201, 0.07819124179676458), (202, 0.07660164254792641), (203, 0.07733901427504776), (204, 0.11592971696161648), (205, 0.07248074478529913), (206, 0.050296215384081105), (207, 0.0854350453445147), (208, 0.11934051615198488), (209, 0.07168727561498021), (210, 0.10214211591367349), (211, 0.0880671906193611), (212, 0.11676636323814027), (213, 0.10512126519010732), (214, 0.08719043018743512), (215, 0.08919460240351285), (216, 0.08266802377876152), (217, 0.05984258160201366), (218, 0.09246355933461517), (219, 0.07098932122254822), (220, 0.08176913814733208), (221, 0.11962507709799003), (222, 0.08003670381510579), (223, 0.0876470145775473), (224, 0.0884110554454551), (225, 0.08500640592312826), (226, 0.07661199324111291), (227, 0.07755247909176888), (228, 0.11940039387919343), (229, 0.06795340666864087), (230, 0.048483772271773355), (231, 0.10197561313763182), (232, 0.12771757215094887), (233, 0.08549574854381642), (234, 0.1159978304576997), (235, 0.07829339343065454), (236, 0.05712680825162293), (237, 0.06299802678199369), (238, 0.07216262466908499), (239, 0.06079722284791818), (240, 0.06925003897290613), (241, 0.07089209198475192), (242, 0.0698676530680405), (243, 0.032021476989265656), (244, 0.07200530780186261), (245, 0.09015543953880237), (246, 0.07049275397458973), (247, 0.09959596985216929), (248, 0.07216343897386544), (249, 0.08530413401891926)]\n"
          ]
        }
      ]
    },
    {
      "cell_type": "code",
      "source": [
        "len(similarity_score)"
      ],
      "metadata": {
        "colab": {
          "base_uri": "https://localhost:8080/"
        },
        "id": "yWft--q64yoE",
        "outputId": "1aa890c7-3e94-492c-e072-54f504aaaf99"
      },
      "execution_count": null,
      "outputs": [
        {
          "output_type": "execute_result",
          "data": {
            "text/plain": [
              "250"
            ]
          },
          "metadata": {},
          "execution_count": 68
        }
      ]
    },
    {
      "cell_type": "code",
      "source": [
        "#sorting movies based on similarity score\n",
        "sorted_similar_kdrama=sorted(similarity_score,key=lambda x:x[1],reverse=True)\n",
        "print(sorted_similar_kdrama)"
      ],
      "metadata": {
        "colab": {
          "base_uri": "https://localhost:8080/"
        },
        "id": "tMaY8V9w5MJn",
        "outputId": "cf09019f-3352-44ed-a385-1edafdfa40ee"
      },
      "execution_count": null,
      "outputs": [
        {
          "output_type": "stream",
          "name": "stdout",
          "text": [
            "[(54, 1.0), (67, 0.2490635106154907), (18, 0.17370851662259523), (97, 0.16894607963485542), (135, 0.1675366267642431), (103, 0.15439546596530015), (80, 0.1424672490416617), (6, 0.140752064352243), (136, 0.13684679191616475), (151, 0.13379973939306622), (56, 0.13084903093178085), (34, 0.12968508709230525), (232, 0.12771757215094887), (185, 0.12739257092045794), (109, 0.12605105223583218), (116, 0.12479465105033), (33, 0.12428106273766372), (105, 0.12413215839141083), (19, 0.12344881960189408), (157, 0.12237337001754969), (179, 0.12006835226815071), (221, 0.11962507709799003), (228, 0.11940039387919343), (208, 0.11934051615198488), (148, 0.11789611441448161), (101, 0.11771926329950091), (175, 0.11754989432443756), (106, 0.11752990599593709), (181, 0.11750717855803838), (69, 0.11692717960936358), (212, 0.11676636323814027), (5, 0.11662815214164002), (118, 0.11655057366979278), (199, 0.11615414187811009), (234, 0.1159978304576997), (204, 0.11592971696161648), (149, 0.11537736761816987), (125, 0.11312900756153652), (84, 0.1123665217622904), (70, 0.11145472804907511), (143, 0.11073086746818074), (161, 0.10999040652611311), (152, 0.10926536140486634), (196, 0.10926148857621037), (85, 0.10875755910362839), (169, 0.10815263016925582), (95, 0.10788114834796225), (28, 0.10753922937957722), (156, 0.10744705977896837), (98, 0.10707244136175549), (21, 0.10651618960258084), (178, 0.1064079923955941), (58, 0.1061516799939155), (115, 0.1055787223117398), (213, 0.10512126519010732), (124, 0.10446035796141084), (29, 0.10426073734198679), (77, 0.10368845987570177), (68, 0.10328196178463327), (74, 0.1029844991174003), (123, 0.1029630662508099), (210, 0.10214211591367349), (50, 0.10206449296746992), (231, 0.10197561313763182), (59, 0.10064601194929856), (247, 0.09959596985216929), (189, 0.09824332263330056), (190, 0.09735514412398036), (16, 0.09717790115414358), (129, 0.09711173603612587), (42, 0.09698196126990317), (130, 0.09644644178442713), (128, 0.09585022559608075), (177, 0.09553069589350696), (172, 0.09496630685051254), (91, 0.09432249864298295), (110, 0.09322164509343664), (107, 0.09309399960738213), (53, 0.0930426432555302), (27, 0.09258598323927589), (218, 0.09246355933461517), (132, 0.09236063387602549), (187, 0.09217988004233375), (66, 0.09157510270392788), (8, 0.09030802151389397), (245, 0.09015543953880237), (126, 0.08992129929910261), (4, 0.08991695224898574), (1, 0.08979451090948994), (198, 0.0897274313634937), (139, 0.08948738025119979), (113, 0.08947966777509146), (25, 0.08925969608553032), (215, 0.08919460240351285), (79, 0.08889306467172903), (24, 0.08876381262306766), (224, 0.0884110554454551), (211, 0.0880671906193611), (223, 0.0876470145775473), (214, 0.08719043018743512), (142, 0.08702656254185831), (141, 0.08676552184290641), (41, 0.08671826890190064), (13, 0.0859153516084409), (137, 0.08566539010157603), (233, 0.08549574854381642), (207, 0.0854350453445147), (249, 0.08530413401891926), (184, 0.08516345437261252), (225, 0.08500640592312826), (119, 0.08455627434964189), (26, 0.08368683808412855), (167, 0.08333651703482918), (7, 0.0832906756451825), (216, 0.08266802377876152), (43, 0.08262563945210298), (220, 0.08176913814733208), (46, 0.08171229374112723), (61, 0.08138672679164007), (49, 0.08036657529240226), (64, 0.08008099952920748), (222, 0.08003670381510579), (11, 0.07993297141736044), (127, 0.07979653407685239), (150, 0.07932395397451475), (17, 0.0787552720235437), (154, 0.07862991136420149), (39, 0.07850671544709453), (186, 0.07845363121530746), (235, 0.07829339343065454), (201, 0.07819124179676458), (159, 0.07787781066632282), (2, 0.0775923862030669), (227, 0.07755247909176888), (164, 0.07754198404320597), (203, 0.07733901427504776), (163, 0.07729344582694568), (226, 0.07661199324111291), (202, 0.07660164254792641), (15, 0.07658385491090339), (96, 0.07658030545557794), (22, 0.07617835594297488), (191, 0.07615934952788288), (171, 0.07571105085693974), (36, 0.07505688312697764), (146, 0.0750017001822446), (93, 0.07490483189881784), (188, 0.074899837417198), (86, 0.07464129551699211), (108, 0.07411060589464942), (32, 0.07324802494682175), (166, 0.073102837860348), (205, 0.07248074478529913), (78, 0.07247624332720212), (248, 0.07216343897386544), (238, 0.07216262466908499), (244, 0.07200530780186261), (209, 0.07168727561498021), (180, 0.07160072276287359), (57, 0.07147267947497148), (219, 0.07098932122254822), (182, 0.07097015661730435), (241, 0.07089209198475192), (246, 0.07049275397458973), (174, 0.07040169196736165), (133, 0.0702856217494266), (173, 0.06994053460176293), (100, 0.06988200979677495), (242, 0.0698676530680405), (104, 0.0697088604029754), (165, 0.06968636968641789), (55, 0.06960677193969657), (134, 0.06936660431103822), (240, 0.06925003897290613), (112, 0.0692277957607608), (120, 0.06894703660494665), (155, 0.0685475900631567), (229, 0.06795340666864087), (194, 0.0675444501788593), (47, 0.06749591305041597), (82, 0.06729990768682197), (75, 0.06650220686266946), (92, 0.0664971047151848), (14, 0.06638886463069943), (3, 0.06623462285987412), (10, 0.06616211452811169), (147, 0.06588587135711038), (193, 0.06488807400367358), (138, 0.0648485409629461), (37, 0.06481216100182255), (168, 0.06474696300837524), (200, 0.06435686655339706), (158, 0.06386341391248394), (197, 0.0638346089447176), (94, 0.06367795043707052), (62, 0.0636000986963499), (122, 0.06359366726015298), (114, 0.06331832377124409), (73, 0.06323968198428867), (35, 0.06313781013105042), (237, 0.06299802678199369), (81, 0.06266655231957004), (31, 0.06246904006776736), (162, 0.06180013805710947), (239, 0.06079722284791818), (217, 0.05984258160201366), (192, 0.059493578537705455), (71, 0.058775272560158194), (144, 0.0586951245484368), (76, 0.05784708651210733), (45, 0.057487067560808236), (20, 0.05742868173148355), (65, 0.0573113519523585), (236, 0.05712680825162293), (9, 0.056494659225198106), (176, 0.05631301944375297), (30, 0.0560067363887517), (153, 0.05585092658120719), (0, 0.05521102159661963), (117, 0.05451583508441797), (38, 0.054425934715630085), (99, 0.05332167635450846), (12, 0.05142251803576113), (195, 0.05058568747917741), (160, 0.050334151939389525), (140, 0.05030829106684463), (206, 0.050296215384081105), (72, 0.05007057882939879), (170, 0.04884178096577508), (89, 0.04870795998572513), (131, 0.04848814028359702), (230, 0.048483772271773355), (51, 0.047300196646093355), (63, 0.045894323408144456), (52, 0.04579251515027875), (111, 0.04479396659318412), (48, 0.04476642143561733), (88, 0.04418132010360831), (60, 0.043788674953469914), (121, 0.04210538517772674), (145, 0.04168550371329203), (183, 0.041142232343425233), (44, 0.04056053566421301), (23, 0.03804781661746712), (83, 0.03709817649933954), (90, 0.03690382529871972), (102, 0.03501375818102667), (243, 0.032021476989265656), (87, 0.02768860702841033), (40, 0.024115656766209297)]\n"
          ]
        }
      ]
    },
    {
      "cell_type": "code",
      "source": [
        "#print the name of similar movies based on the index\n",
        "print('Kdrama suggested for you: \\n')\n",
        "\n",
        "i=1\n",
        "for kdrama in sorted_similar_kdrama:\n",
        "  index=kdrama[0]\n",
        "  title_from_index=movies_data[movies_data.index==index]['Name'].values[0]\n",
        "  if(i<30):\n",
        "    print(i,'.',title_from_index)\n",
        "    i+=1"
      ],
      "metadata": {
        "colab": {
          "base_uri": "https://localhost:8080/"
        },
        "id": "iMW4B9oc5iO1",
        "outputId": "7b0773d2-5056-426f-f5ff-3a489c9be0ff"
      },
      "execution_count": null,
      "outputs": [
        {
          "output_type": "stream",
          "name": "stdout",
          "text": [
            "Kdrama suggested for you: \n",
            "\n",
            "1 . Sweet Home\n",
            "2 . Strangers from Hell\n",
            "3 . Happiness\n",
            "4 . 365\n",
            "5 . All of Us Are Dead\n",
            "6 . Beautiful World\n",
            "7 . The King of Pigs\n",
            "8 . Weak Hero Class 1\n",
            "9 . Extracurricular\n",
            "10 . Train\n",
            "11 . Moon Lovers\n",
            "12 . Youth of May\n",
            "13 . 49 Days\n",
            "14 . Class of Lies\n",
            "15 . One Ordinary Day\n",
            "16 . W\n",
            "17 . The Penthouse\n",
            "18 . Kairos\n",
            "19 . Kingdom: Season 2\n",
            "20 . Extraordinary You\n",
            "21 . Tale of the Nine-Tailed\n",
            "22 . Mine\n",
            "23 . Light on Me\n",
            "24 . Again My Life\n",
            "25 . From Now On, Showtime!\n",
            "26 . Nobody Knows\n",
            "27 . Seasons of Blossom\n",
            "28 . I Hear Your Voice\n",
            "29 . He Is Psychometric\n"
          ]
        }
      ]
    },
    {
      "cell_type": "markdown",
      "source": [
        "Kdrama recommendation system\n"
      ],
      "metadata": {
        "id": "A4T1u2Jm8dVe"
      }
    },
    {
      "cell_type": "code",
      "source": [
        "kdrama_name=input('Enter your favourite kdrama name: ')\n",
        "\n",
        "list_of_all_kdrama_names=movies_data['Name'].tolist()\n",
        "\n",
        "find_close_match=difflib.get_close_matches(kdrama_name,list_of_all_kdrama_names)\n",
        "\n",
        "close_match=find_close_match[0]\n",
        "\n",
        "index_of_the_kdrama=movies_data[movies_data.Name==close_match].index.values[0]\n",
        "\n",
        "similarity_score=list(enumerate(similarity[index_of_the_kdrama]))\n",
        "\n",
        "sorted_similar_kdrama=sorted(similarity_score,key=lambda x:x[1],reverse=True)\n",
        "\n",
        "print('Kdrama suggested for you: \\n')\n",
        "\n",
        "i=1\n",
        "for kdrama in sorted_similar_kdrama:\n",
        "  index=kdrama[0]\n",
        "  title_from_index=movies_data[movies_data.index==index]['Name'].values[0]\n",
        "  if(i<30):\n",
        "    print(i,'.',title_from_index)\n",
        "    i+=1\n"
      ],
      "metadata": {
        "colab": {
          "base_uri": "https://localhost:8080/"
        },
        "id": "bS1hMoKi8bjb",
        "outputId": "5a64e54f-d27c-4923-884e-b747333748f5"
      },
      "execution_count": null,
      "outputs": [
        {
          "output_type": "stream",
          "name": "stdout",
          "text": [
            "Enter your favourite kdrama name: ctash landing on you\n",
            "Kdrama suggested for you: \n",
            "\n",
            "1 . Crash Landing on You\n",
            "2 . Snowdrop\n",
            "3 . The Hymn of Death\n",
            "4 . Mr. Queen\n",
            "5 . Twenty-Five Twenty-One\n",
            "6 . Mr. Sunshine\n",
            "7 . Graceful Family\n",
            "8 . My Love from the Star\n",
            "9 . Descendants of the Sun\n",
            "10 . Extraordinary You\n",
            "11 . Mad Dog\n",
            "12 . Chicago Typewriter\n",
            "13 . Kairos\n",
            "14 . Military Prosecutor Doberman\n",
            "15 . Angel's Last Mission: Love\n",
            "16 . Money Heist: Korea - Joint Economic Area - Part 1\n",
            "17 . The Beauty Inside\n",
            "18 . Thirty But Seventeen\n",
            "19 . One Spring Night\n",
            "20 . 49 Days\n",
            "21 . Fight For My Way\n",
            "22 . My Unfamiliar Family\n",
            "23 . Kill Me, Heal Me\n",
            "24 . Mine\n",
            "25 . 365\n",
            "26 . A Business Proposal\n",
            "27 . Just Between Lovers\n",
            "28 . D.P.\n",
            "29 . Awaken\n"
          ]
        }
      ]
    }
  ]
}